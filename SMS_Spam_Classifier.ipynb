{
  "nbformat": 4,
  "nbformat_minor": 0,
  "metadata": {
    "colab": {
      "name": "SMS Spam Classifier.ipynb",
      "provenance": [],
      "collapsed_sections": [],
      "authorship_tag": "ABX9TyNyaxlQSTLqO6Xoy2mxm/gy",
      "include_colab_link": true
    },
    "kernelspec": {
      "name": "python3",
      "display_name": "Python 3"
    }
  },
  "cells": [
    {
      "cell_type": "markdown",
      "metadata": {
        "id": "view-in-github",
        "colab_type": "text"
      },
      "source": [
        "<a href=\"https://colab.research.google.com/github/hemil19/nlp-projects/blob/master/SMS_Spam_Classifier.ipynb\" target=\"_parent\"><img src=\"https://colab.research.google.com/assets/colab-badge.svg\" alt=\"Open In Colab\"/></a>"
      ]
    },
    {
      "cell_type": "markdown",
      "metadata": {
        "id": "vYGqV9bFiNW_"
      },
      "source": [
        "#Importing Required Libraries"
      ]
    },
    {
      "cell_type": "code",
      "metadata": {
        "id": "RY1b2L1jhW4t",
        "outputId": "6c62174a-cf21-4cd7-e48a-f61fdc81b28f",
        "colab": {
          "base_uri": "https://localhost:8080/",
          "height": 51
        }
      },
      "source": [
        "import pandas as pd\n",
        "import numpy as np\n",
        "\n",
        "import re\n",
        "import nltk\n",
        "nltk.download('stopwords')\n",
        "\n",
        "from nltk.stem.porter import PorterStemmer  \n",
        "ps=PorterStemmer()\n",
        "\n",
        "from nltk.corpus import stopwords\n",
        "\n",
        "from sklearn.feature_extraction.text import CountVectorizer\n",
        "from sklearn.model_selection import train_test_split"
      ],
      "execution_count": 58,
      "outputs": [
        {
          "output_type": "stream",
          "text": [
            "[nltk_data] Downloading package stopwords to /root/nltk_data...\n",
            "[nltk_data]   Package stopwords is already up-to-date!\n"
          ],
          "name": "stdout"
        }
      ]
    },
    {
      "cell_type": "markdown",
      "metadata": {
        "id": "9SBYwmtEiRIV"
      },
      "source": [
        "#Fetching Data from URL"
      ]
    },
    {
      "cell_type": "code",
      "metadata": {
        "id": "xSkITbJzhw0S"
      },
      "source": [
        "data=pd.read_csv('https://raw.githubusercontent.com/krishnaik06/SpamClassifier/master/smsspamcollection/SMSSpamCollection',sep='\\t',names=['Label','Message'])"
      ],
      "execution_count": 59,
      "outputs": []
    },
    {
      "cell_type": "code",
      "metadata": {
        "id": "cR0qkGYyh1Km",
        "outputId": "2bc6a20a-9fe3-448d-fa16-b812a1bdc3b3",
        "colab": {
          "base_uri": "https://localhost:8080/",
          "height": 204
        }
      },
      "source": [
        "data.head()"
      ],
      "execution_count": 60,
      "outputs": [
        {
          "output_type": "execute_result",
          "data": {
            "text/html": [
              "<div>\n",
              "<style scoped>\n",
              "    .dataframe tbody tr th:only-of-type {\n",
              "        vertical-align: middle;\n",
              "    }\n",
              "\n",
              "    .dataframe tbody tr th {\n",
              "        vertical-align: top;\n",
              "    }\n",
              "\n",
              "    .dataframe thead th {\n",
              "        text-align: right;\n",
              "    }\n",
              "</style>\n",
              "<table border=\"1\" class=\"dataframe\">\n",
              "  <thead>\n",
              "    <tr style=\"text-align: right;\">\n",
              "      <th></th>\n",
              "      <th>Label</th>\n",
              "      <th>Message</th>\n",
              "    </tr>\n",
              "  </thead>\n",
              "  <tbody>\n",
              "    <tr>\n",
              "      <th>0</th>\n",
              "      <td>ham</td>\n",
              "      <td>Go until jurong point, crazy.. Available only ...</td>\n",
              "    </tr>\n",
              "    <tr>\n",
              "      <th>1</th>\n",
              "      <td>ham</td>\n",
              "      <td>Ok lar... Joking wif u oni...</td>\n",
              "    </tr>\n",
              "    <tr>\n",
              "      <th>2</th>\n",
              "      <td>spam</td>\n",
              "      <td>Free entry in 2 a wkly comp to win FA Cup fina...</td>\n",
              "    </tr>\n",
              "    <tr>\n",
              "      <th>3</th>\n",
              "      <td>ham</td>\n",
              "      <td>U dun say so early hor... U c already then say...</td>\n",
              "    </tr>\n",
              "    <tr>\n",
              "      <th>4</th>\n",
              "      <td>ham</td>\n",
              "      <td>Nah I don't think he goes to usf, he lives aro...</td>\n",
              "    </tr>\n",
              "  </tbody>\n",
              "</table>\n",
              "</div>"
            ],
            "text/plain": [
              "  Label                                            Message\n",
              "0   ham  Go until jurong point, crazy.. Available only ...\n",
              "1   ham                      Ok lar... Joking wif u oni...\n",
              "2  spam  Free entry in 2 a wkly comp to win FA Cup fina...\n",
              "3   ham  U dun say so early hor... U c already then say...\n",
              "4   ham  Nah I don't think he goes to usf, he lives aro..."
            ]
          },
          "metadata": {
            "tags": []
          },
          "execution_count": 60
        }
      ]
    },
    {
      "cell_type": "code",
      "metadata": {
        "id": "QiuXI4DRjWup"
      },
      "source": [
        "corpus=[]\n",
        "for i in data['Message']:\n",
        "  messages=re.sub('[^a-zA-Z]',' ',i) #only alphabets included\n",
        "  messages=messages.strip().lower()  #Lower the text\n",
        "  text=messages.split(' ')           #Split the text by space\n",
        "  messages=[ps.stem(i) for i in text if not i in stopwords.words('english') and len(i)>2] #check word not in stopwords and len(word)>2 should be considered for stemming\n",
        "  corpus.append(' '.join(messages).strip()) #join the words to make complete sentence "
      ],
      "execution_count": 61,
      "outputs": []
    },
    {
      "cell_type": "code",
      "metadata": {
        "id": "iv_hmG7GjZC1",
        "outputId": "7119a519-7917-4e02-b153-7bdad731cd6e",
        "colab": {
          "base_uri": "https://localhost:8080/",
          "height": 187
        }
      },
      "source": [
        "corpus[:10]"
      ],
      "execution_count": 62,
      "outputs": [
        {
          "output_type": "execute_result",
          "data": {
            "text/plain": [
              "['jurong point crazi avail bugi great world buffet cine got amor wat',\n",
              " 'lar joke wif oni',\n",
              " 'free entri wkli comp win cup final tkt may text receiv entri question std txt rate appli',\n",
              " 'dun say earli hor alreadi say',\n",
              " 'nah think goe usf live around though',\n",
              " 'freemsg hey darl week word back like fun still xxx std chg send rcv',\n",
              " 'even brother like speak treat like aid patent',\n",
              " 'per request mell mell oru minnaminungint nurungu vettam set callertun caller press copi friend callertun',\n",
              " 'winner valu network custom select receivea prize reward claim call claim code valid hour',\n",
              " 'mobil month entitl updat latest colour mobil camera free call mobil updat free']"
            ]
          },
          "metadata": {
            "tags": []
          },
          "execution_count": 62
        }
      ]
    },
    {
      "cell_type": "markdown",
      "metadata": {
        "id": "dMrTwe2DpY5X"
      },
      "source": [
        "#CountVectorizer"
      ]
    },
    {
      "cell_type": "code",
      "metadata": {
        "id": "iViXdTrbnjTv"
      },
      "source": [
        "cv=CountVectorizer(max_features=5000)\n",
        "X=cv.fit_transform(corpus).toarray()\n",
        "y=data['Label'].map({'ham':0,'spam':1})"
      ],
      "execution_count": 63,
      "outputs": []
    },
    {
      "cell_type": "code",
      "metadata": {
        "id": "Rp7RIZASnnIO",
        "outputId": "ca3371a8-0fff-4f7f-d449-baae2156571a",
        "colab": {
          "base_uri": "https://localhost:8080/",
          "height": 34
        }
      },
      "source": [
        "X.shape,y.shape"
      ],
      "execution_count": 64,
      "outputs": [
        {
          "output_type": "execute_result",
          "data": {
            "text/plain": [
              "((5572, 5000), (5572,))"
            ]
          },
          "metadata": {
            "tags": []
          },
          "execution_count": 64
        }
      ]
    },
    {
      "cell_type": "code",
      "metadata": {
        "id": "HfrZPPCyoue6",
        "outputId": "8d1fd972-8527-4c6d-c8b5-e38df070e6ba",
        "colab": {
          "base_uri": "https://localhost:8080/",
          "height": 51
        }
      },
      "source": [
        "X_train,X_test,y_train,y_test=train_test_split(X,y,test_size=0.2,random_state=19)\n",
        "print('Training Set Shape:',(X_train.shape,y_train.shape))\n",
        "print('Testing Set Shape:',(X_test.shape,y_test.shape))"
      ],
      "execution_count": 65,
      "outputs": [
        {
          "output_type": "stream",
          "text": [
            "Training Set Shape: ((4457, 5000), (4457,))\n",
            "Testing Set Shape: ((1115, 5000), (1115,))\n"
          ],
          "name": "stdout"
        }
      ]
    },
    {
      "cell_type": "markdown",
      "metadata": {
        "id": "V5mK0coeqmgN"
      },
      "source": [
        "#Model Building & Evaluation"
      ]
    },
    {
      "cell_type": "code",
      "metadata": {
        "id": "DxkGwAX9pWHw",
        "outputId": "161d61a4-b4c4-4838-a9c8-4961f157bf44",
        "colab": {
          "base_uri": "https://localhost:8080/",
          "height": 204
        }
      },
      "source": [
        "from sklearn.naive_bayes import MultinomialNB\n",
        "from sklearn.metrics import confusion_matrix,classification_report\n",
        "nb=MultinomialNB()\n",
        "nb.fit(X_train,y_train)\n",
        "y_pred=nb.predict(X_test)\n",
        "print(confusion_matrix(y_test,y_pred))\n",
        "print(classification_report(y_test,y_pred))"
      ],
      "execution_count": 66,
      "outputs": [
        {
          "output_type": "stream",
          "text": [
            "[[946  18]\n",
            " [  8 143]]\n",
            "              precision    recall  f1-score   support\n",
            "\n",
            "           0       0.99      0.98      0.99       964\n",
            "           1       0.89      0.95      0.92       151\n",
            "\n",
            "    accuracy                           0.98      1115\n",
            "   macro avg       0.94      0.96      0.95      1115\n",
            "weighted avg       0.98      0.98      0.98      1115\n",
            "\n"
          ],
          "name": "stdout"
        }
      ]
    },
    {
      "cell_type": "code",
      "metadata": {
        "id": "qVlpiDj1qBkf",
        "outputId": "00c70f20-f9c9-4071-fad1-2fd4aec9a03b",
        "colab": {
          "base_uri": "https://localhost:8080/",
          "height": 204
        }
      },
      "source": [
        "from sklearn.linear_model import LogisticRegression\n",
        "l_clf=LogisticRegression()\n",
        "l_clf.fit(X_train,y_train)\n",
        "y_pred=l_clf.predict(X_test)\n",
        "print(confusion_matrix(y_test,y_pred))\n",
        "print(classification_report(y_test,y_pred))"
      ],
      "execution_count": 67,
      "outputs": [
        {
          "output_type": "stream",
          "text": [
            "[[964   0]\n",
            " [ 17 134]]\n",
            "              precision    recall  f1-score   support\n",
            "\n",
            "           0       0.98      1.00      0.99       964\n",
            "           1       1.00      0.89      0.94       151\n",
            "\n",
            "    accuracy                           0.98      1115\n",
            "   macro avg       0.99      0.94      0.97      1115\n",
            "weighted avg       0.99      0.98      0.98      1115\n",
            "\n"
          ],
          "name": "stdout"
        }
      ]
    }
  ]
}